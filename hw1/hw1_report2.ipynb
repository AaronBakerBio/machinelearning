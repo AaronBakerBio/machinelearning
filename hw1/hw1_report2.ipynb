{
 "cells": [
  {
   "cell_type": "markdown",
   "metadata": {},
   "source": [
    "# HW1 : Regression, Cross-Validation, and  Regularization"
   ]
  },
  {
   "cell_type": "code",
   "execution_count": 1,
   "metadata": {
    "ExecuteTime": {
     "end_time": "2024-09-28T22:42:59.595530400Z",
     "start_time": "2024-09-28T22:42:58.795068500Z"
    }
   },
   "outputs": [],
   "source": [
    "import os\n",
    "import numpy as np\n",
    "import pandas as pd\n",
    " \n",
    "import sklearn.preprocessing\n",
    "import sklearn.pipeline\n",
    "import sklearn.linear_model"
   ]
  },
  {
   "cell_type": "code",
   "execution_count": 2,
   "metadata": {
    "ExecuteTime": {
     "end_time": "2024-09-28T22:42:59.599459200Z",
     "start_time": "2024-09-28T22:42:59.596536500Z"
    }
   },
   "outputs": [],
   "source": [
    "from matplotlib import pyplot as plt\n",
    "\n",
    "import seaborn as sns\n",
    "#This sets the default style for all figures. \n",
    "sns.set('notebook', font_scale=1.25, style='whitegrid')"
   ]
  },
  {
   "cell_type": "markdown",
   "metadata": {},
   "source": [
    "### Configuration\n",
    "\n",
    "You may need to adjust your data directory to point towards the auto data. "
   ]
  },
  {
   "cell_type": "code",
   "execution_count": 3,
   "metadata": {
    "ExecuteTime": {
     "end_time": "2024-09-28T22:42:59.615730300Z",
     "start_time": "2024-09-28T22:42:59.599459200Z"
    }
   },
   "outputs": [],
   "source": [
    "SEED = 12345 \n",
    "\n",
    "DATA_DIR = './data_auto/'"
   ]
  },
  {
   "cell_type": "markdown",
   "metadata": {},
   "source": [
    "# Helper Functions\n",
    "\n",
    "These notebook sections contain helper functions which you **do not need to alter**.  "
   ]
  },
  {
   "cell_type": "markdown",
   "metadata": {},
   "source": [
    "### Methods for loading dataset"
   ]
  },
  {
   "cell_type": "code",
   "execution_count": 4,
   "metadata": {
    "ExecuteTime": {
     "end_time": "2024-09-28T22:42:59.616724700Z",
     "start_time": "2024-09-28T22:42:59.606698Z"
    }
   },
   "outputs": [],
   "source": [
    "def load_2d_arr_from_csv(fname, include_header=False):\n",
    "    x = np.loadtxt(os.path.join(DATA_DIR, fname), delimiter=',', skiprows=1)\n",
    "    assert x.ndim == 2\n",
    "    if include_header:\n",
    "        header_cols = np.loadtxt(os.path.join(DATA_DIR, fname), delimiter=',', dtype=str)[0].tolist()\n",
    "        return x, header_cols\n",
    "    else:\n",
    "        return x\n",
    "    \n",
    "def load_1d_arr_from_csv(fname):\n",
    "    x = np.loadtxt(os.path.join(DATA_DIR, fname), delimiter=',', skiprows=1)\n",
    "    if x.ndim == 1:\n",
    "        return x\n",
    "    else:\n",
    "        raise ValueError(\"Not 1d\")"
   ]
  },
  {
   "cell_type": "markdown",
   "metadata": {},
   "source": [
    "### Plotting methods"
   ]
  },
  {
   "cell_type": "code",
   "execution_count": 5,
   "metadata": {
    "ExecuteTime": {
     "end_time": "2024-09-28T22:42:59.616724700Z",
     "start_time": "2024-09-28T22:42:59.612737400Z"
    }
   },
   "outputs": [],
   "source": [
    "def plot_train_and_valid_error_vs_hyper(\n",
    "        hyper_list, err_tr_list=None, err_va_list=None,\n",
    "        ymax=40,\n",
    "        leg_loc='upper right',\n",
    "        xlabel='polynomial degree',\n",
    "        ylabel='RMSE'):\n",
    "    if err_va_list is not None:\n",
    "        plt.plot(hyper_list, err_va_list, 'rs-', label='valid');\n",
    "    if err_tr_list is not None:\n",
    "        plt.plot(hyper_list, err_tr_list, 'bd:', label='train');\n",
    "    plt.ylim([0, ymax]);\n",
    "    plt.legend(loc=leg_loc);\n",
    "    plt.xlabel(xlabel);\n",
    "    plt.ylabel(ylabel);"
   ]
  },
  {
   "cell_type": "markdown",
   "metadata": {},
   "source": [
    "### Method to sanitize predictions\n",
    "\n",
    "For many regression problems certain values might be impossible or improbable (such as in this case where we can't have a negative miles-per-gallon). However, most machine learning models cannot learn these types of strict rules. Thus, a common practice in ML is to **sanatize** predictions made by a model, confining them to be within reasonable bounds. \n",
    "\n",
    "Here we are predicting MPG, which should \n",
    "* (1) always be positive, and\n",
    "* (2) will probably never exceed 120% of the largest value we see in train data\n",
    "\n",
    "All model predictions should be sanitized before being used. "
   ]
  },
  {
   "cell_type": "code",
   "execution_count": 6,
   "metadata": {
    "ExecuteTime": {
     "end_time": "2024-09-28T22:42:59.669566800Z",
     "start_time": "2024-09-28T22:42:59.616724700Z"
    }
   },
   "outputs": [],
   "source": [
    "def sanitize(yhat_N):\n",
    "    yhat_N = np.maximum(yhat_N, 0)\n",
    "    yhat_N = np.minimum(yhat_N, Y_MAX)\n",
    "    return yhat_N"
   ]
  },
  {
   "cell_type": "markdown",
   "metadata": {},
   "source": [
    "## Methods for building pipelines\n",
    "\n",
    "These are sklearn pipelines, which define a series of steps that can then be treated as if they were a single classifier.  "
   ]
  },
  {
   "cell_type": "code",
   "execution_count": 7,
   "metadata": {
    "ExecuteTime": {
     "end_time": "2024-09-28T22:42:59.670566700Z",
     "start_time": "2024-09-28T22:42:59.622739100Z"
    }
   },
   "outputs": [],
   "source": [
    "def make_poly_linear_regr_pipeline(degree=1):\n",
    "    pipeline = sklearn.pipeline.Pipeline(\n",
    "        steps=[\n",
    "         ('rescaler', sklearn.preprocessing.MinMaxScaler()),\n",
    "         ('poly_transformer', sklearn.preprocessing.PolynomialFeatures(degree=degree, include_bias=False)),\n",
    "         ('linear_regr', sklearn.linear_model.LinearRegression()),\n",
    "        ])\n",
    "    \n",
    "    # Return the constructed pipeline\n",
    "    # We can treat it as if it has a 'regression' API\n",
    "    # e.g. a fit and a predict method\n",
    "    return pipeline"
   ]
  },
  {
   "cell_type": "code",
   "execution_count": 8,
   "metadata": {
    "ExecuteTime": {
     "end_time": "2024-09-28T22:42:59.670566700Z",
     "start_time": "2024-09-28T22:42:59.627970900Z"
    }
   },
   "outputs": [],
   "source": [
    "def make_poly_ridge_regr_pipeline(degree=1, alpha=1.0):\n",
    "    pipeline = sklearn.pipeline.Pipeline(\n",
    "        steps=[\n",
    "         ('rescaler', sklearn.preprocessing.MinMaxScaler()),\n",
    "         ('poly_transformer', sklearn.preprocessing.PolynomialFeatures(degree=degree, include_bias=False)),\n",
    "         ('linear_regr', sklearn.linear_model.Ridge(alpha=alpha)),\n",
    "        ])\n",
    "\n",
    "    # Return the constructed pipeline\n",
    "    # We can treat it as if it has a 'regression' API\n",
    "    # e.g. a fit and a predict method\n",
    "    return pipeline"
   ]
  },
  {
   "cell_type": "markdown",
   "metadata": {},
   "source": [
    "## Method to inspect learned weights\n",
    "\n",
    "Use this function when asked to display learned parameters."
   ]
  },
  {
   "cell_type": "code",
   "execution_count": 9,
   "metadata": {
    "ExecuteTime": {
     "end_time": "2024-09-28T22:42:59.671560600Z",
     "start_time": "2024-09-28T22:42:59.632106200Z"
    }
   },
   "outputs": [],
   "source": [
    "def pretty_print_learned_weights(pipeline, xcolnames_F):\n",
    "    ''' Print the learned parameters of given pipeline\n",
    "    '''\n",
    "    my_lin_regr = pipeline.named_steps['linear_regr']\n",
    "\n",
    "    feat_names = pipeline.named_steps['poly_transformer'].get_feature_names_out()\n",
    "    coef_values = my_lin_regr.coef_\n",
    "\n",
    "    for feat, coef in zip(feat_names, coef_values):\n",
    "        print(\"% 7.2f : %s\" % (coef, feat))\n",
    "    \n",
    "    print(\"where \")\n",
    "    for ff, colname in enumerate(xcolnames_F):\n",
    "        print(\"x%d = %s\" % (ff, colname))"
   ]
  },
  {
   "cell_type": "markdown",
   "metadata": {},
   "source": [
    "# Analysis\n",
    "\n",
    "The rest of this notebook is an analysis and report of the automobile dataset. Some of the steps of the analysis have already been completed for you. You need to complete the indicated sections in problems 1-3."
   ]
  },
  {
   "cell_type": "markdown",
   "metadata": {},
   "source": [
    "# Load the dataset\n",
    "\n",
    "First, we need to load the predefined 'x' and 'y' arrays for train/valid/test sets using the predefined helper function. "
   ]
  },
  {
   "cell_type": "code",
   "execution_count": 10,
   "metadata": {
    "ExecuteTime": {
     "end_time": "2024-09-28T22:42:59.671560600Z",
     "start_time": "2024-09-28T22:42:59.639724600Z"
    }
   },
   "outputs": [],
   "source": [
    "x_tr_MF, xcolnames_F = load_2d_arr_from_csv('x_train.csv', include_header=True)\n",
    "x_va_NF = load_2d_arr_from_csv('x_valid.csv')\n",
    "x_te_PF = load_2d_arr_from_csv('x_test.csv')"
   ]
  },
  {
   "cell_type": "code",
   "execution_count": 11,
   "metadata": {
    "ExecuteTime": {
     "end_time": "2024-09-28T22:42:59.703023200Z",
     "start_time": "2024-09-28T22:42:59.665572300Z"
    }
   },
   "outputs": [],
   "source": [
    "y_tr_M = load_1d_arr_from_csv('y_train.csv')\n",
    "y_va_N = load_1d_arr_from_csv('y_valid.csv')\n",
    "y_te_P = load_1d_arr_from_csv('y_test.csv')"
   ]
  },
  {
   "cell_type": "markdown",
   "metadata": {},
   "source": [
    "We can then take at various parts of our training data. "
   ]
  },
  {
   "cell_type": "code",
   "execution_count": 12,
   "metadata": {
    "ExecuteTime": {
     "end_time": "2024-09-28T22:42:59.720462800Z",
     "start_time": "2024-09-28T22:42:59.688491800Z"
    }
   },
   "outputs": [
    {
     "name": "stdout",
     "output_type": "stream",
     "text": [
      "Feature Names: ['horsepower', 'weight', 'cylinders', 'displacement']\n",
      "Training data features:\n",
      " [[ 115. 2595.    6.  173.]\n",
      " [ 180. 4380.    8.  350.]\n",
      " [ 150. 4457.    8.  318.]\n",
      " [ 105. 3897.    6.  250.]\n",
      " [ 193. 4732.    8.  304.]]\n",
      "Training data MPGs:\n",
      " [[28.8]\n",
      " [16.5]\n",
      " [14. ]\n",
      " [16. ]\n",
      " [ 9. ]]\n"
     ]
    }
   ],
   "source": [
    "# Feature names\n",
    "print(\"Feature Names:\", xcolnames_F) \n",
    "\n",
    "# First 5 instances in our training data\n",
    "print(\"Training data features:\\n\", x_tr_MF[:5])\n",
    "\n",
    "# MPG for the first 5 instances\n",
    "print(\"Training data MPGs:\\n\", y_tr_M[:5,np.newaxis])"
   ]
  },
  {
   "cell_type": "markdown",
   "metadata": {},
   "source": [
    "Also, we need to set a `Y_MAX` variable so that the sanatize function works. "
   ]
  },
  {
   "cell_type": "code",
   "execution_count": 13,
   "metadata": {
    "ExecuteTime": {
     "end_time": "2024-09-28T22:42:59.823939300Z",
     "start_time": "2024-09-28T22:42:59.695081600Z"
    }
   },
   "outputs": [
    {
     "data": {
      "text/plain": "46.6"
     },
     "execution_count": 13,
     "metadata": {},
     "output_type": "execute_result"
    }
   ],
   "source": [
    "# Highest MPG in the training data\n",
    "y_tr_M.max()"
   ]
  },
  {
   "cell_type": "code",
   "execution_count": 14,
   "metadata": {
    "ExecuteTime": {
     "end_time": "2024-09-28T22:42:59.825940600Z",
     "start_time": "2024-09-28T22:42:59.705138900Z"
    }
   },
   "outputs": [],
   "source": [
    "Y_MAX = y_tr_M.max()*1.2"
   ]
  },
  {
   "cell_type": "markdown",
   "metadata": {},
   "source": [
    "## Load completed code"
   ]
  },
  {
   "cell_type": "markdown",
   "metadata": {},
   "source": [
    "Now we load in the code you wrote in part of of the homework. "
   ]
  },
  {
   "cell_type": "code",
   "execution_count": 15,
   "metadata": {
    "ExecuteTime": {
     "end_time": "2024-09-28T22:42:59.826941100Z",
     "start_time": "2024-09-28T22:42:59.709395300Z"
    }
   },
   "outputs": [],
   "source": [
    "from performance_metrics import calc_root_mean_squared_error\n",
    "from cross_validation import train_models_and_calc_scores_for_n_fold_cv"
   ]
  },
  {
   "cell_type": "markdown",
   "metadata": {},
   "source": [
    "# Problem 1: Polynomial Degree Selection on Fixed Validation Set\n",
    "\n",
    "**Implementation Step 1A:**\n",
    "\n",
    "Fit a linear regression model to a polynomial feature transformation of the provided training set at each of these possible degrees: [1, 2, 3, 4, 5, 6, 7]. For each hyperparameter setting, record the training set error and the validation set error in terms of RMSE."
   ]
  },
  {
   "cell_type": "code",
   "execution_count": 16,
   "metadata": {
    "ExecuteTime": {
     "end_time": "2024-09-28T22:42:59.983859Z",
     "start_time": "2024-09-28T22:42:59.719421900Z"
    }
   },
   "outputs": [],
   "source": [
    "degree_list = [1, 2, 3, 4, 5, 6, 7]\n",
    "fv_err_tr_list = []\n",
    "fv_err_va_list = []\n",
    "\n",
    "fv_pipeline_list = []\n",
    "for degree in degree_list:\n",
    "    \n",
    "    # TODO create a pipeline using features with current degree value\n",
    "    # TODO train this pipeline on provided training data\n",
    "    pipeline = make_poly_linear_regr_pipeline(degree)\n",
    "    pipeline.fit(x_tr_MF, y_tr_M) \n",
    "    # Compute training error\n",
    "    yhat_tr_M = sanitize(pipeline.predict(x_tr_MF))  # TODO fixme, be sure to sanitize predictions\n",
    "    yhat_va_N = sanitize(pipeline.predict(x_va_NF)) # TODO fixme, be sure to sanitize predictions\n",
    "    err_tr = calc_root_mean_squared_error(y_tr_M, yhat_tr_M) # TODO fixme\n",
    "    err_va = calc_root_mean_squared_error(y_va_N, yhat_va_N) # TODO fixme\n",
    "    fv_err_tr_list.append(err_tr)\n",
    "    fv_err_va_list.append(err_va)  \n",
    "    # TODO store current pipeline for future use\n",
    "    fv_pipeline_list.append(pipeline)\n"
   ]
  },
  {
   "cell_type": "markdown",
   "metadata": {},
   "source": [
    "### Implementation 1B: Score on the test set using the chosen model\n",
    "\n",
    "Select the model hyperparameters that *minimize* your fixed validation set error. Using your already-trained LinearRegression model with these best hyperparameters, compute error on the *test* set. Save this test set error value for later."
   ]
  },
  {
   "cell_type": "code",
   "execution_count": 17,
   "metadata": {
    "ExecuteTime": {
     "end_time": "2024-09-28T22:42:59.988856700Z",
     "start_time": "2024-09-28T22:42:59.958328800Z"
    }
   },
   "outputs": [
    {
     "name": "stdout",
     "output_type": "stream",
     "text": [
      "Selected Parameters:\n",
      "2\n",
      "Fixed validation set estimate of heldout error:\n",
      "3.9740753307545336\n",
      "Error on the test-set:\n",
      "3.99150254645676\n"
     ]
    }
   ],
   "source": [
    "print(\"Selected Parameters:\")\n",
    "my_min = min(fv_err_va_list)\n",
    "min_ind = fv_err_va_list.index(my_min)\n",
    "print(f\"{degree_list[min_ind]}\")\n",
    "print(\"Fixed validation set estimate of heldout error:\")\n",
    "print(f\"{my_min}\")\n",
    "print(\"Error on the test-set:\")\n",
    "yhat_te_PF = fv_pipeline_list[min_ind].predict(x_te_PF)\n",
    "fv_err_test_best = calc_root_mean_squared_error(y_te_P, yhat_te_PF)\n",
    "print(f\"{fv_err_test_best}\")"
   ]
  },
  {
   "cell_type": "code",
   "execution_count": 18,
   "metadata": {
    "ExecuteTime": {
     "end_time": "2024-09-28T22:42:59.988856700Z",
     "start_time": "2024-09-28T22:42:59.962776800Z"
    }
   },
   "outputs": [],
   "source": [
    "# TODO store score on test set for later"
   ]
  },
  {
   "cell_type": "markdown",
   "metadata": {},
   "source": [
    "### Figure 1: Error vs degree\n",
    "\n",
    "Once `fv_err_tr_list` and `fv_err_va_list` contain values from part 1A, you can re-run the plotting cell to generate figure 1 with the values you found. "
   ]
  },
  {
   "cell_type": "code",
   "execution_count": 19,
   "metadata": {
    "ExecuteTime": {
     "end_time": "2024-09-28T22:43:00.247825Z",
     "start_time": "2024-09-28T22:42:59.967025200Z"
    }
   },
   "outputs": [
    {
     "name": "stdout",
     "output_type": "stream",
     "text": [
      "[4.237313351890975, 3.7346766165181506, 3.384209940477311, 2.900500340837231, 2.2905812741955596, 0.5462071746293854, 0.11787939101589115]\n",
      "[4.3603521784039865, 3.9740753307545336, 4.157263921386099, 5.891522416923559, 14.872513109186864, 26.661349325636564, 27.589121126429394]\n"
     ]
    },
    {
     "data": {
      "text/plain": "<Figure size 640x480 with 1 Axes>",
      "image/png": "[encoded data removed]"
     },
     "metadata": {},
     "output_type": "display_data"
    }
   ],
   "source": [
    "plot_train_and_valid_error_vs_hyper(\n",
    "    degree_list, fv_err_tr_list, fv_err_va_list, leg_loc='upper left');\n",
    "print(fv_err_tr_list)\n",
    "print(fv_err_va_list)\n",
    "plt.title('RMSE vs. Degree');"
   ]
  },
  {
   "cell_type": "markdown",
   "metadata": {},
   "source": [
    "#### Figure 1: RMSE vs. Degree\n",
    "\n",
    "*Provide a 2 sentence caption answering the questions: How do validation and training error change as degree increases? What degree do you recommend based on this plot?*"
   ]
  },
  {
   "cell_type": "markdown",
   "metadata": {},
   "source": [
    "As degree increases, validation error climbs, while training error drops as the model fits the training data more closely. The best choice i degree two, where validation and training RMSE are still close, and the validation RMSE is at its lowest point before they diverge, signaling overfitting."
   ]
  },
  {
   "cell_type": "markdown",
   "metadata": {},
   "source": [
    "#### Short Answer 1A\n",
    "\n",
    "The starter code pipelines include a *preprocessing* step that rescales each feature column to be in the unit interval from 0 to 1. \n",
    "Why is this necessary for this particular dataset?\n",
    "What happens (in terms of both training error and test error) if this step is omitted?\n",
    "*Hint: Try removing this step and see.*"
   ]
  },
  {
   "cell_type": "markdown",
   "metadata": {},
   "source": [
    "We rescale our feature columns, (our inputs like weight, hp, cylinders, etc) to prevent individual features from dominating our regression. The units of our features are inconsistent and vary wildly. Features like weight or horsepower are much larger than features such as cylinders. If we dont rescale, cylinders' has an extremely tiny impact on the regression. Additionally, our training error will decrease less appreciably over larger degrees. Our test error will also go up for our smaller features, as we are overfitting more on values such as horsepower and weight over smaller features.  "
   ]
  },
  {
   "cell_type": "markdown",
   "metadata": {},
   "source": [
    "#### Short Answer 1B\n",
    "\n",
    "Consider the model with degree 1. \n",
    "Following the starter code, print out the values of **all** the learned weight parameters (aka coefficients).\n",
    "From these values, which feature has the highest positive impact on MPG? Which has the highest negative impact? Do these make sense?"
   ]
  },
  {
   "cell_type": "code",
   "execution_count": 20,
   "metadata": {
    "ExecuteTime": {
     "end_time": "2024-09-28T22:43:00.273330600Z",
     "start_time": "2024-09-28T22:43:00.247825Z"
    }
   },
   "outputs": [
    {
     "name": "stdout",
     "output_type": "stream",
     "text": [
      " -10.43 : x0\n",
      " -18.23 : x1\n",
      "  -1.15 : x2\n",
      "   0.58 : x3\n",
      "where \n",
      "x0 = horsepower\n",
      "x1 = weight\n",
      "x2 = cylinders\n",
      "x3 = displacement\n",
      "['horsepower', 'weight', 'cylinders', 'displacement']\n"
     ]
    }
   ],
   "source": [
    "# TODO call pretty_print_learned_weights on your pipeline with degree=1 from above\n",
    "pretty_print_learned_weights(fv_pipeline_list[0], xcolnames_F)\n",
    "# Hint: The names of the original F=4 features are already in your workspace\n",
    "print(xcolnames_F)"
   ]
  },
  {
   "cell_type": "markdown",
   "metadata": {},
   "source": [
    "The feature with the highest positive impact on MPG is displacement, though it is quite a small magnitude impact. Generally, large displacement engines to my knowledge cost more gas (I am not a car guy). This could be due to the low degree and poor fit at degree = 1. On the other hand, weight had the most negative impact on MPG. This makes sense to me, as weight increases the efficiency of our miles per gallon should drop, we are hauling something that weighs more so energy should cost more. This happens similarly with horsepower, which makes sense. If we use more horsepower to move our car, it should cost more to move it. "
   ]
  },
  {
   "cell_type": "markdown",
   "metadata": {},
   "source": [
    "# Problem 2: Alpha Selection on Fixed Val Set\n",
    "\n",
    "#### Implementation Step 2A \n",
    "\n",
    "Fix the degree at 4. Consider the below possible `alpha` values for L2-penalized linear regression, aka `Ridge`.\n",
    "\n",
    "Fit a L2-penalized linear regression pipeline for each alpha value above, then record that model's training set error and the validation set error."
   ]
  },
  {
   "cell_type": "code",
   "execution_count": 21,
   "metadata": {
    "ExecuteTime": {
     "end_time": "2024-09-28T22:43:00.274331500Z",
     "start_time": "2024-09-28T22:43:00.253573Z"
    }
   },
   "outputs": [
    {
     "name": "stdout",
     "output_type": "stream",
     "text": [
      "[1.e-10 1.e-08 1.e-06 1.e-04 1.e-02 1.e+00 1.e+02 1.e+04 1.e+06]\n"
     ]
    }
   ],
   "source": [
    "my_degree = 4\n",
    "alpha_list = np.asarray([1.e-10, 1.e-08, 1.e-06, 1.e-04, 1.e-02, 1.e+00, 1.e+02, 1.e+04, 1.e+06])\n",
    "print(alpha_list)"
   ]
  },
  {
   "cell_type": "code",
   "execution_count": 22,
   "metadata": {
    "ExecuteTime": {
     "end_time": "2024-09-28T22:43:00.412522Z",
     "start_time": "2024-09-28T22:43:00.260325900Z"
    }
   },
   "outputs": [],
   "source": [
    "fv2_err_tr_list = []\n",
    "fv2_err_va_list = []\n",
    "fv2_pipeline_list = []\n",
    "\n",
    "for alpha in alpha_list:\n",
    "\n",
    "    # TODO create a pipeline using features with current degree value\n",
    "    # TODO train this pipeline on provided training data\n",
    "    pipeline = make_poly_ridge_regr_pipeline(degree=my_degree, alpha=alpha)\n",
    "    pipeline.fit(x_tr_MF, y_tr_M) \n",
    "\n",
    "    yhat_tr_M = sanitize(pipeline.predict(x_tr_MF)) # TODO fixme, be sure to call predict and then sanitize\n",
    "    yhat_va_N = sanitize(pipeline.predict(x_va_NF)) # TODO fixme, be sure to call predict and then sanitize\n",
    "    assert np.all(yhat_va_N >= 0.0)\n",
    "    assert np.all(yhat_va_N <= Y_MAX)\n",
    "    \n",
    "    err_tr = calc_root_mean_squared_error(y_tr_M, yhat_tr_M) # TODO fixme\n",
    "    err_va = calc_root_mean_squared_error(y_va_N, yhat_va_N) # TODO fixme\n",
    "\n",
    "    fv2_err_tr_list.append(err_tr)\n",
    "    fv2_err_va_list.append(err_va)\n",
    "\n",
    "    # TODO store current pipeline for future use\n",
    "    fv2_pipeline_list.append(pipeline)"
   ]
  },
  {
   "cell_type": "markdown",
   "metadata": {},
   "source": [
    "### Figure 2 in report\n",
    "\n",
    "Make a line plot of mean-squared error on y-axis vs. alpha on x-axis."
   ]
  },
  {
   "cell_type": "code",
   "execution_count": 23,
   "metadata": {
    "ExecuteTime": {
     "end_time": "2024-09-28T22:43:00.704505500Z",
     "start_time": "2024-09-28T22:43:00.305938100Z"
    }
   },
   "outputs": [
    {
     "data": {
      "text/plain": "<Figure size 640x480 with 1 Axes>",
      "image/png": "[encoded data removed]"
     },
     "metadata": {},
     "output_type": "display_data"
    }
   ],
   "source": [
    "plot_train_and_valid_error_vs_hyper(\n",
    "    alpha_list, fv2_err_tr_list, fv2_err_va_list,\n",
    "    xlabel='alpha (L2 penalty)', leg_loc='upper left');\n",
    "plt.gca().set_ylim([0, 10]);\n",
    "plt.gca().set_xscale('log');\n",
    "plt.title('Error vs. Alpha');"
   ]
  },
  {
   "cell_type": "markdown",
   "metadata": {},
   "source": [
    "#### Figure 2: Error vs. Alpha\n",
    "\n",
    "Provide a 2 sentence caption answering the questions: How do validation and training set RMSE change with alpha? Do any trends emerge?\n",
    "What alpha value do you recommend based on this plot?"
   ]
  },
  {
   "cell_type": "markdown",
   "metadata": {},
   "source": [
    "As alpha increases, training RMSE increases. For validation on the other hand, it decreases slowly in RMSE over the first two alpha values. From the 2nd to 3rd, the decrease is rapid, followed by a slower decrease in RMSE until the 6th alpha value, after which point it begins to increase again in RMSE. The best point is at the 6th alpha, 1.e+00. At this point, RMSE for validation is at its lowest point while training RMSE is relatively low and has converged with it. "
   ]
  },
  {
   "cell_type": "markdown",
   "metadata": {},
   "source": [
    "#### Implementation Step 2B\n",
    "\n",
    "Select the model hyperparameters that *minimize* your fixed validation set error. Using your already-trained model with these best hyperparameters, compute error on the *test* set. \n"
   ]
  },
  {
   "cell_type": "code",
   "execution_count": 24,
   "metadata": {
    "ExecuteTime": {
     "end_time": "2024-09-28T22:43:00.724664600Z",
     "start_time": "2024-09-28T22:43:00.706470900Z"
    }
   },
   "outputs": [
    {
     "name": "stdout",
     "output_type": "stream",
     "text": [
      "Selected Parameters:\n",
      "0.01\n",
      "Fixed validation set estimate of heldout error:\n",
      "3.931387833481272\n",
      "Error on the test-set:\n",
      "3.87766786040381\n"
     ]
    }
   ],
   "source": [
    "min_va_error = min(fv2_err_va_list) # minimum error, comments for sanity check \n",
    "best_param_index = fv2_err_va_list.index(min_va_error)\n",
    "param_val = alpha_list[best_param_index]\n",
    "print(\"Selected Parameters:\")\n",
    "print(f\"{param_val}\")\n",
    "print(\"Fixed validation set estimate of heldout error:\")\n",
    "print(f\"{min_va_error}\")\n",
    "print(\"Error on the test-set:\")\n",
    "best_pipe = fv2_pipeline_list[best_param_index]\n",
    "yhat_test_P = sanitize(best_pipe.predict(x_te_PF))\n",
    "test_error = calc_root_mean_squared_error(y_te_P, yhat_test_P)\n",
    "print(f\"{test_error}\")"
   ]
  },
  {
   "cell_type": "code",
   "execution_count": 25,
   "metadata": {
    "ExecuteTime": {
     "end_time": "2024-09-28T22:43:00.725177700Z",
     "start_time": "2024-09-28T22:43:00.711138900Z"
    }
   },
   "outputs": [],
   "source": [
    "# TODO Save this test set error value for later.\n",
    "# I saved the value to itself again so you can see which variable it was\n",
    "test_error = test_error "
   ]
  },
  {
   "cell_type": "code",
   "execution_count": 26,
   "outputs": [
    {
     "name": "stdout",
     "output_type": "stream",
     "text": [
      " -39.88 : x0\n",
      "   1.56 : x1\n",
      "  14.71 : x2\n",
      " -13.32 : x3\n",
      "  -6.53 : x0^2\n",
      "  -5.93 : x0 x1\n",
      "  21.96 : x0 x2\n",
      "  24.36 : x0 x3\n",
      " -22.82 : x1^2\n",
      "   2.39 : x1 x2\n",
      "  -2.18 : x1 x3\n",
      " -19.42 : x2^2\n",
      " -26.81 : x2 x3\n",
      "   3.47 : x3^2\n",
      "   9.93 : x0^3\n",
      "   5.41 : x0^2 x1\n",
      "   9.37 : x0^2 x2\n",
      "  14.07 : x0^2 x3\n",
      "   8.22 : x0 x1^2\n",
      "   7.41 : x0 x1 x2\n",
      "  12.85 : x0 x1 x3\n",
      "   0.12 : x0 x2^2\n",
      "  -1.49 : x0 x2 x3\n",
      "   0.97 : x0 x3^2\n",
      "  -5.93 : x1^3\n",
      "  -2.12 : x1^2 x2\n",
      "  -2.79 : x1^2 x3\n",
      "   0.19 : x1 x2^2\n",
      "  -2.80 : x1 x2 x3\n",
      "  -0.49 : x1 x3^2\n",
      "  -4.76 : x2^3\n",
      "  -3.17 : x2^2 x3\n",
      "   3.10 : x2 x3^2\n",
      "   5.33 : x3^3\n",
      "   5.15 : x0^4\n",
      "  -4.71 : x0^3 x1\n",
      "  -1.87 : x0^3 x2\n",
      "   5.64 : x0^3 x3\n",
      "  -2.97 : x0^2 x1^2\n",
      "  -5.04 : x0^2 x1 x2\n",
      "   1.79 : x0^2 x1 x3\n",
      " -10.96 : x0^2 x2^2\n",
      "  -4.93 : x0^2 x2 x3\n",
      "  -3.79 : x0^2 x3^2\n",
      "   4.44 : x0 x1^3\n",
      "   2.40 : x0 x1^2 x2\n",
      "   5.23 : x0 x1^2 x3\n",
      "  -4.37 : x0 x1 x2^2\n",
      "  -0.25 : x0 x1 x2 x3\n",
      "  -1.68 : x0 x1 x3^2\n",
      " -16.61 : x0 x2^3\n",
      " -11.02 : x0 x2^2 x3\n",
      " -10.19 : x0 x2 x3^2\n",
      " -13.04 : x0 x3^3\n",
      "   2.39 : x1^4\n",
      "   3.05 : x1^3 x2\n",
      "   0.24 : x1^3 x3\n",
      "   2.79 : x1^2 x2^2\n",
      "   1.78 : x1^2 x2 x3\n",
      "  -2.91 : x1^2 x3^2\n",
      "   4.22 : x1 x2^3\n",
      "   6.13 : x1 x2^2 x3\n",
      "   2.56 : x1 x2 x3^2\n",
      "  -4.81 : x1 x3^3\n",
      "  12.25 : x2^4\n",
      "  17.03 : x2^3 x3\n",
      "  14.30 : x2^2 x3^2\n",
      "   6.02 : x2 x3^3\n",
      "  -4.64 : x3^4\n",
      "where \n",
      "x0 = horsepower\n",
      "x1 = weight\n",
      "x2 = cylinders\n",
      "x3 = displacement\n"
     ]
    }
   ],
   "source": [
    "pretty_print_learned_weights(best_pipe, xcolnames_F)"
   ],
   "metadata": {
    "collapsed": false,
    "ExecuteTime": {
     "end_time": "2024-09-28T22:43:00.725177700Z",
     "start_time": "2024-09-28T22:43:00.717052700Z"
    }
   }
  },
  {
   "cell_type": "markdown",
   "metadata": {},
   "source": [
    "#### Short Answer 2a\n",
    "\n",
    "Inspect the learned weight parameters of your chosen degree-4 ridge regression model.\n",
    "How do their relative magnitudes compare to those you printed in 1b above?"
   ]
  },
  {
   "cell_type": "markdown",
   "metadata": {},
   "source": [
    "In the degree-4 ridge regression model, the coefficients for higher-order terms and interactions between features are much larger in magnitude compared to the simpler degree-1 model. Our new model is capturing more complex relationships between features, as modeled by the higher number of coefficients we are looking at and the higher magnitudes. "
   ]
  },
  {
   "cell_type": "markdown",
   "metadata": {},
   "source": [
    "#### Short Answer 2b in Report\n",
    "\n",
    "Your colleague suggests that you can determine the regularization strength `alpha` by minimizing the following loss on the *training* set:\n",
    "\n",
    "$$\n",
    "\\text{min}_{w \\in \\mathbb{R}^F, b \\in \\mathbb{R}, \\alpha \\ge 0}\n",
    "\\quad \\sum_{n=1}^N (y_n - \\hat{y}(x_n, w, b))^2 + \\alpha \\sum_{f=1}^F w_f^2\n",
    "$$\n",
    "\n",
    "What value of $\\alpha$ would you pick if you did this? Why is this problematic if your goal is to generalize to new data well?\n",
    "\n",
    "*Hint: Which value of $\\alpha$ would minimize this loss function?*"
   ]
  },
  {
   "cell_type": "markdown",
   "metadata": {},
   "source": [
    "Based on his math, we could minimize the loss function by picking alpha = 0. However, this causes the model to not penalize large coefficients. As a result, the model would probably overfit as we are not really constraining it at all causing it to not generalize well. When we overfit like this, we capture noise and overfit by fitting the training data too closely. We still have to penalize large coefficients to some extent if we want to be generalizable. To prevent this, we need at least a non-zero alpha. "
   ]
  },
  {
   "cell_type": "markdown",
   "metadata": {},
   "source": [
    "# Data preprocessing for Problem 3"
   ]
  },
  {
   "cell_type": "markdown",
   "metadata": {},
   "source": [
    "For this problem, you'll again use the provided training set and validation sets. However, you'll *merge* these into a large \"development\" set that contains 292 examples total."
   ]
  },
  {
   "cell_type": "code",
   "execution_count": 27,
   "metadata": {
    "ExecuteTime": {
     "end_time": "2024-09-28T22:43:00.734203200Z",
     "start_time": "2024-09-28T22:43:00.723052600Z"
    }
   },
   "outputs": [
    {
     "name": "stdout",
     "output_type": "stream",
     "text": [
      "(292, 4)\n"
     ]
    }
   ],
   "source": [
    "x_trva_LF = np.vstack([x_tr_MF, x_va_NF])\n",
    "y_trva_L = np.hstack([y_tr_M, y_va_N])\n",
    "\n",
    "print(x_trva_LF.shape)"
   ]
  },
  {
   "cell_type": "markdown",
   "metadata": {},
   "source": [
    "# Problem 3: Cross Validation for Polynomial Feature Regression"
   ]
  },
  {
   "cell_type": "markdown",
   "metadata": {},
   "source": [
    "### Implementation step 3A\n",
    "\n",
    "For each possible `alpha` value as well as each possible polynomial degree, train and evaluate a `Ridge` regression model across the entire train+validation set using 10-fold cross validation. Use the CV methods you implemented in `cross_validation.py`. For each possible hyperparameter (alpha value and degree value), your 10-fold CV procedure will give you an estimate of the training error and heldout validation error (averaged across all folds). \n"
   ]
  },
  {
   "cell_type": "code",
   "execution_count": 29,
   "metadata": {
    "ExecuteTime": {
     "end_time": "2024-09-28T21:13:06.937915100Z",
     "start_time": "2024-09-28T21:13:06.914857Z"
    }
   },
   "outputs": [],
   "source": [
    "K = 10 # num folds of CV\n",
    "degree_list = [1, 2, 3, 4, 5, 6, 7]\n",
    "alpha_list = np.logspace(-10, 6, 17)\n",
    "\n",
    "ridge_param_list = []\n",
    "for alpha in alpha_list:\n",
    "    for degree in degree_list:\n",
    "        ridge_param_list.append(dict(degree=degree, alpha=alpha))\n",
    "        \n",
    "cv_train_err_list = []\n",
    "cv_valid_err_list = []\n",
    "fv_3_pipeline_list = []\n",
    "for param in ridge_param_list:\n",
    "    # TODO make pipeline\n",
    "    pipeline = make_poly_ridge_regr_pipeline(degree_list,alpha_list)\n",
    "    # TODO call your function to train a separate model for each fold and return train and valid errors\n",
    "    # Don't forget to pass random_state = SEED (where SEED is defined above) so its reproducible\n",
    "    # tr_error_K, valid_error_K = train_models_and_calc_scores_for_n_fold_cv() # TODO\n",
    "    \n",
    "    err_tr = 6.0 # TODO fixme, compute average error across all train folds\n",
    "    err_va = 7.0 # TODO fixme, compute average error across all heldout folds\n",
    "    \n",
    "    cv_train_err_list.append(err_tr)\n",
    "    cv_valid_err_list.append(err_va)"
   ]
  },
  {
   "cell_type": "markdown",
   "metadata": {},
   "source": [
    "### Implementation step 3B\n",
    "\n",
    "Select the model hyperparameters that *minimize* your estimated cross-validation error. Using these best hyperparameters, retrain the model using the full development set (concatenating the predefined training and validation sets). Then compute that (retrained) model's error on the test set.\n",
    "\n",
    "Save this test set error value for later."
   ]
  },
  {
   "cell_type": "code",
   "execution_count": null,
   "metadata": {},
   "outputs": [],
   "source": []
  },
  {
   "cell_type": "code",
   "execution_count": 28,
   "metadata": {},
   "outputs": [
    {
     "name": "stdout",
     "output_type": "stream",
     "text": [
      "Selected Parameters:\n",
      "TODO\n",
      "10-fold CV estimate of heldout error:\n",
      "TODO\n",
      "Error on the test-set:\n",
      "TODO\n"
     ]
    }
   ],
   "source": [
    "print(\"Selected Parameters:\")\n",
    "print(\"TODO\")\n",
    "print(\"10-fold CV estimate of heldout error:\")\n",
    "print(\"TODO\")\n",
    "print(\"Error on the test-set:\")\n",
    "print(\"TODO\")"
   ]
  },
  {
   "cell_type": "markdown",
   "metadata": {},
   "source": []
  },
  {
   "cell_type": "markdown",
   "metadata": {},
   "source": []
  },
  {
   "cell_type": "markdown",
   "metadata": {},
   "source": [
    "### Table 3: Comparing Pipelines on the test set\n",
    "\n",
    "In one neat table, please compare the *test set* root-mean-squared-error (RMSE) performance for the following regressors:\n",
    "\n",
    "* Baseline: A predictor that always guesses the *mean* $y$ value of the training set, regardless of the new test input\n",
    "* The best Poly+Linear pipeline, picking degree to minimize val set error (from 1B)\n",
    "* The best Poly+Ridge pipeline, fixing degree=4 and picking alpha to minimize val set error (from 2B)\n",
    "* The best Poly+Ridge pipeline, picking degree and alpha to minimize 10-fold cross validation error (from 3B)"
   ]
  },
  {
   "cell_type": "markdown",
   "metadata": {},
   "source": [
    "TODO make a table in your report using the saved values from 1B, 2B and 3B above. You can fill in the below Markdown table. \n",
    "\n",
    "| Name                          | Hyperparameter Value(s)     | Test RMSE | Train RMSE |\n",
    "|-------------------------------|-----------------------------|-----------|------------|\n",
    "|      Baseline mean prediction | None                        | TODO      | TODO       |\n",
    "|      Poly+Linear pipeine (1B) | Degree = TODO               | TODO      | TODO       |\n",
    "|  Poly+Ridge Alpha Search (2B) | Degree = 4, Alpha = TODO    | TODO      | TODO       |\n",
    "| Poly + Ridge Grid Search (3B) | Degree = TODO, Alpha = TODO | TODO      | TODO       |\n"
   ]
  },
  {
   "cell_type": "markdown",
   "metadata": {},
   "source": [
    "Table 3: \n",
    "*Provide a 2-4 sentence caption answering the question: \n",
    "What pipeline in Table 3 performed best in terms of heldout error, and why do you thik that pipeline performed the best? \n",
    "What pipeline in Table 3 performed worst in terms of heldout error, and why do you thik that pipeline performed the worst?*"
   ]
  },
  {
   "cell_type": "markdown",
   "metadata": {},
   "source": [
    "Your caption here"
   ]
  },
  {
   "cell_type": "markdown",
   "metadata": {},
   "source": [
    "## Reflection\n",
    "Please fill in the following information about your HW1 solution.\n",
    "\n",
    "How many hours did HW1 take you? _______\n",
    "\n",
    "Did you use any resources outside of class materials and official documentation, such as StackOverflow threads or ChatGPT? If so, please list such resources below:"
   ]
  },
  {
   "cell_type": "markdown",
   "metadata": {},
   "source": []
  }
 ],
 "metadata": {
  "kernelspec": {
   "display_name": "Python 3 (ipykernel)",
   "language": "python",
   "name": "python3"
  },
  "language_info": {
   "codemirror_mode": {
    "name": "ipython",
    "version": 3
   },
   "file_extension": ".py",
   "mimetype": "text/x-python",
   "name": "python",
   "nbconvert_exporter": "python",
   "pygments_lexer": "ipython3",
   "version": "3.11.9"
  }
 },
 "nbformat": 4,
 "nbformat_minor": 4
}
